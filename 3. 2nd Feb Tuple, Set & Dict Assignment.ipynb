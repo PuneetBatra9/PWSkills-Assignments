{
 "cells": [
  {
   "cell_type": "code",
   "execution_count": 11,
   "id": "e4cc16ba-a7a5-48e5-a406-cfa3085ae500",
   "metadata": {},
   "outputs": [],
   "source": [
    "## Note: Create your assignment in Jupyter notebook and upload it in GitHub & share that github repository link through your dashboard."
   ]
  },
  {
   "cell_type": "code",
   "execution_count": null,
   "id": "a823195a-1c50-4ec5-a61b-ffdf32d0e915",
   "metadata": {},
   "outputs": [],
   "source": [
    "## Q1. What are the characteristics of the tuples? Is tuple immutable?\n",
    "\n",
    "## Ans 1.>>\n",
    "## Tuples are contained in Parenthesis, they are immutable. Although in terms of indexing and slicing, tuples are similar to lists.\n"
   ]
  },
  {
   "cell_type": "code",
   "execution_count": null,
   "id": "e70a8360-2d33-4d87-9639-d05d9fb4f118",
   "metadata": {},
   "outputs": [],
   "source": [
    "## Q2. What are the two tuple methods in python? Give an example of each method. Give a reason why tuples have only two in-built methods as compared to Lists.\n",
    "\n",
    "## Ans 2. >> count() and index() are the two methods of Tuples, these are inbuilt finctions.\n",
    "\n",
    "## Examples below - "
   ]
  },
  {
   "cell_type": "code",
   "execution_count": 2,
   "id": "ee96b495-483a-46d2-bb12-d505cb40f08b",
   "metadata": {},
   "outputs": [],
   "source": [
    "Tuple = (1,1,2,2,3,3,4,4,5,5,6,6,\"Puneet\",\"Batra\",6,6,6)"
   ]
  },
  {
   "cell_type": "code",
   "execution_count": 3,
   "id": "2386cc39-a6c9-4d08-8c76-b11dbca056c7",
   "metadata": {},
   "outputs": [],
   "source": [
    "A = Tuple.count(6)"
   ]
  },
  {
   "cell_type": "code",
   "execution_count": 4,
   "id": "a2b568fb-2d12-474f-9034-5de51273bdc7",
   "metadata": {},
   "outputs": [
    {
     "name": "stdout",
     "output_type": "stream",
     "text": [
      "5\n"
     ]
    }
   ],
   "source": [
    "print(A)"
   ]
  },
  {
   "cell_type": "code",
   "execution_count": 9,
   "id": "0c6af089-b43a-4343-87fa-57d499d68d31",
   "metadata": {},
   "outputs": [],
   "source": [
    "Tuple = (1,1,2,2,3,3,4,4,5,5,6,6,\"Puneet\",\"Batra\",6,6,6)"
   ]
  },
  {
   "cell_type": "code",
   "execution_count": 12,
   "id": "098b1f94-0c76-4e1b-bcc4-cca3a1229f14",
   "metadata": {},
   "outputs": [],
   "source": [
    "B = Tuple.index(\"Puneet\")"
   ]
  },
  {
   "cell_type": "code",
   "execution_count": 13,
   "id": "da5fb1ff-def4-45fd-aede-07986ef0e41e",
   "metadata": {},
   "outputs": [
    {
     "name": "stdout",
     "output_type": "stream",
     "text": [
      "12\n"
     ]
    }
   ],
   "source": [
    "print(B)"
   ]
  },
  {
   "cell_type": "code",
   "execution_count": null,
   "id": "e63cc678-1115-4af7-b0c8-200d9b48a5b8",
   "metadata": {},
   "outputs": [],
   "source": []
  },
  {
   "cell_type": "code",
   "execution_count": null,
   "id": "8a607224-9a79-47dd-b0b8-5a86594c23cf",
   "metadata": {},
   "outputs": [],
   "source": [
    "## Q3. Which collection datatypes in python do not allow duplicate items? Write a code using a set to remove duplicates from the given list.\n",
    "List = [1, 1, 1, 2, 1, 3, 1, 4, 2, 1, 2, 2, 2, 3, 2, 4, 3, 1, 3, 2, 3, 3, 3, 4, 4, 1, 4, 2, 4, 3, 4, 4]"
   ]
  },
  {
   "cell_type": "code",
   "execution_count": null,
   "id": "c19a54e7-b699-45c5-96b8-f3ec04bda01f",
   "metadata": {},
   "outputs": [],
   "source": [
    "## Ans 3 >> \"\"SETS\"\" is a datatype that does not allow duplicates. Only unique values."
   ]
  },
  {
   "cell_type": "code",
   "execution_count": 13,
   "id": "a47c7954-d4d4-4bc3-bc57-d1aa6e87de43",
   "metadata": {},
   "outputs": [
    {
     "name": "stdout",
     "output_type": "stream",
     "text": [
      "{1, 2, 3, 4}\n"
     ]
    }
   ],
   "source": [
    "List = [1, 1, 1, 2, 1, 3, 1, 4, 2, 1, 2, 2, 2, 3, 2, 4, 3, 1, 3, 2, 3, 3, 3, 4, 4, 1, 4, 2, 4, 3, 4, 4]\n",
    "Newset=set(List1)\n",
    "print(Newset)"
   ]
  },
  {
   "cell_type": "code",
   "execution_count": null,
   "id": "bac82e56-e825-4ca3-8bcd-21ba4c9898a1",
   "metadata": {},
   "outputs": [],
   "source": [
    "## Q4. Explain the difference between the union() and update() methods for a set. Give an example of each method."
   ]
  },
  {
   "cell_type": "code",
   "execution_count": null,
   "id": "6674710b-7458-4c03-872a-01580b3e4aca",
   "metadata": {},
   "outputs": [],
   "source": [
    "## Ans 4 >> The update() method adds missing elements to the existing set on which it is called whereas set. union() creates a new set (perhaps from multiple sets removing duplicates)"
   ]
  },
  {
   "cell_type": "code",
   "execution_count": null,
   "id": "ed977c94-7357-4547-9d8d-daa6d9a0720a",
   "metadata": {},
   "outputs": [],
   "source": [
    "## Example of UPdate set - "
   ]
  },
  {
   "cell_type": "code",
   "execution_count": 3,
   "id": "10270d9f-22eb-49b7-80f2-92b97eb97616",
   "metadata": {},
   "outputs": [],
   "source": [
    "Set1 = {\"Maruti\",\"Hyundai\",\"Kia\"}"
   ]
  },
  {
   "cell_type": "code",
   "execution_count": 4,
   "id": "3cbcfd1b-53c0-43da-865d-411dccdc305f",
   "metadata": {},
   "outputs": [],
   "source": [
    "Set1.update([\"Toyota\",\"Tata\",\"Mahindra\"])"
   ]
  },
  {
   "cell_type": "code",
   "execution_count": 5,
   "id": "aaa8e613-4221-4c6d-9879-c969710b48e4",
   "metadata": {},
   "outputs": [
    {
     "data": {
      "text/plain": [
       "{'Hyundai', 'Kia', 'Mahindra', 'Maruti', 'Tata', 'Toyota'}"
      ]
     },
     "execution_count": 5,
     "metadata": {},
     "output_type": "execute_result"
    }
   ],
   "source": [
    "Set1"
   ]
  },
  {
   "cell_type": "code",
   "execution_count": null,
   "id": "5b3d9ec1-0798-47a5-ad7a-7f7338f5f8c8",
   "metadata": {},
   "outputs": [],
   "source": [
    "## Example of Union - "
   ]
  },
  {
   "cell_type": "code",
   "execution_count": 8,
   "id": "70da6a24-1cdd-4fa3-8c19-b9ef24c8c5c9",
   "metadata": {},
   "outputs": [],
   "source": [
    "Set1 = {\"Maruti\",\"Hyundai\",\"Kia\"}"
   ]
  },
  {
   "cell_type": "code",
   "execution_count": 9,
   "id": "03409ce4-4fd9-4d86-a332-3ec4c2c8348c",
   "metadata": {},
   "outputs": [],
   "source": [
    "Set2 = {\"Toyota\",\"Tata\",\"Mahindra\"}"
   ]
  },
  {
   "cell_type": "code",
   "execution_count": 10,
   "id": "a5d70ba3-91c9-4bdc-9491-fcb8241ec3ed",
   "metadata": {},
   "outputs": [],
   "source": [
    "Set3 = Set1.union(Set2)"
   ]
  },
  {
   "cell_type": "code",
   "execution_count": 11,
   "id": "29e848ed-76af-4a47-bc28-1d3e53f0d36a",
   "metadata": {},
   "outputs": [
    {
     "data": {
      "text/plain": [
       "{'Hyundai', 'Kia', 'Mahindra', 'Maruti', 'Tata', 'Toyota'}"
      ]
     },
     "execution_count": 11,
     "metadata": {},
     "output_type": "execute_result"
    }
   ],
   "source": [
    "Set3"
   ]
  },
  {
   "cell_type": "code",
   "execution_count": null,
   "id": "df387eba-e765-4e15-9b82-953caed5baf4",
   "metadata": {},
   "outputs": [],
   "source": []
  },
  {
   "cell_type": "code",
   "execution_count": null,
   "id": "d13e27c0-b0a6-4404-b048-dac5c0a13d63",
   "metadata": {},
   "outputs": [],
   "source": [
    "## Q5. What is a dictionary? Give an example. Also, state whether a dictionary is ordered or unordered."
   ]
  },
  {
   "cell_type": "code",
   "execution_count": 4,
   "id": "eaaabbb5-cbba-446e-918b-ba3fdbbe3b6c",
   "metadata": {},
   "outputs": [],
   "source": [
    "## Ans 5 >> Dictionaries are used to store data values in key:value pairs i.e. dictionary is a datatype defined by key and a value pair. Their can be multiple key and value types. \n",
    "## Key always has to be unique, duplicate key will update/overwrite.\n",
    "## Currently, Dictionaries in Python or ordered. As of Python version 3.7, dictionaries are ordered. In Python 3.6 and earlier, dictionaries are unordered."
   ]
  },
  {
   "cell_type": "code",
   "execution_count": 1,
   "id": "77bbc581-0c30-4c96-9db9-19dc22fa4ede",
   "metadata": {},
   "outputs": [],
   "source": [
    "## Example - \n",
    "D1 = {\"name\" : \"Puneet\", \"class\" : \"data science\" , \"Trainer\" : \"Sudhanhu and Krish\" , \"Age\" : 32}"
   ]
  },
  {
   "cell_type": "code",
   "execution_count": 3,
   "id": "08d321c0-bd77-4662-96f0-453829c58c25",
   "metadata": {},
   "outputs": [
    {
     "data": {
      "text/plain": [
       "dict"
      ]
     },
     "execution_count": 3,
     "metadata": {},
     "output_type": "execute_result"
    }
   ],
   "source": [
    "type(D1)"
   ]
  },
  {
   "cell_type": "code",
   "execution_count": null,
   "id": "0cfe2599-75b4-455c-a5ea-407e626cda40",
   "metadata": {},
   "outputs": [],
   "source": []
  },
  {
   "cell_type": "code",
   "execution_count": null,
   "id": "8bd5f559-a17f-4ee6-8a70-f8ac219b9641",
   "metadata": {},
   "outputs": [],
   "source": [
    "## Q6. Can we create a nested dictionary? \n",
    "## If so, please give an example by creating a simple one-levelnested dictionary.\n"
   ]
  },
  {
   "cell_type": "code",
   "execution_count": null,
   "id": "b14917b4-1740-4f30-91b2-e6805a998d49",
   "metadata": {},
   "outputs": [],
   "source": [
    "## Ans 6 >> Yes, we can create nested dictionary. example below - "
   ]
  },
  {
   "cell_type": "code",
   "execution_count": 35,
   "id": "331059af-2241-40de-bcc9-92d708d70619",
   "metadata": {},
   "outputs": [],
   "source": [
    "Dict1 = {1: {\"name\": \"Puneet\", \"age\": \"32\", \"Gender\": \"Male\"},\n",
    "          2: {\"Course\" : \"Data Sc Masters\" , \"Trainer\" : \"Sudh\"}}"
   ]
  },
  {
   "cell_type": "code",
   "execution_count": 36,
   "id": "3c1a145e-1389-44bb-a024-0c72b34fff0e",
   "metadata": {},
   "outputs": [
    {
     "name": "stdout",
     "output_type": "stream",
     "text": [
      "{1: {'name': 'Puneet', 'age': '32', 'Gender': 'Male'}, 2: {'Course': 'Data Sc Masters', 'Trainer': 'Sudh'}}\n"
     ]
    }
   ],
   "source": [
    "print(Dict1)"
   ]
  },
  {
   "cell_type": "code",
   "execution_count": null,
   "id": "9c25c943-e00a-4761-8166-d27343a1f7ab",
   "metadata": {},
   "outputs": [],
   "source": []
  },
  {
   "cell_type": "code",
   "execution_count": 37,
   "id": "25536461-cd49-4487-8c00-854eac88b898",
   "metadata": {},
   "outputs": [],
   "source": [
    "## Q7. Using setdefault() method, create key named topics in the given dictionary and also add the value of the key as this list ['Python', 'Machine Learning’, 'Deep Learning']\n",
    "dict1 = {'language' : 'Python', 'course': 'Data Science Masters'}\n"
   ]
  },
  {
   "cell_type": "code",
   "execution_count": 4,
   "id": "b2ea3204-f24c-41f2-970f-8ec58a0ae131",
   "metadata": {},
   "outputs": [
    {
     "name": "stdout",
     "output_type": "stream",
     "text": [
      "['Python', 'Machine Learning', 'Deep Learning']\n"
     ]
    }
   ],
   "source": [
    "dict1 = {'language' : 'Python', 'course': 'Data Science Masters'}\n",
    "x=dict1.setdefault(\"Topics\",['Python','Machine Learning','Deep Learning'])\n",
    "print(x)"
   ]
  },
  {
   "cell_type": "code",
   "execution_count": null,
   "id": "4b1686d4-5c27-44a7-864d-fc12dad14b27",
   "metadata": {},
   "outputs": [],
   "source": []
  },
  {
   "cell_type": "code",
   "execution_count": null,
   "id": "56c36f83-3d03-45ae-aa95-1bcb21741f4f",
   "metadata": {},
   "outputs": [],
   "source": [
    "Q8. What are the three view objects in dictionaries? Use the three in-built methods in python to display\n",
    "these three view objects for the given dictionary.\n",
    "dict1 = {'Sport': 'Cricket' , 'Teams': ['India', 'Australia', 'England', 'South Africa', 'Sri Lanka', 'New Zealand']}"
   ]
  },
  {
   "cell_type": "code",
   "execution_count": 7,
   "id": "dae24359-ac87-44b4-b404-f6ee90e199da",
   "metadata": {},
   "outputs": [],
   "source": [
    "## Ans 8 >> The 3 view objects in Dictionaries are keys, values and items."
   ]
  },
  {
   "cell_type": "code",
   "execution_count": 8,
   "id": "11b4ef85-be36-455c-a898-0d550e8fd809",
   "metadata": {},
   "outputs": [],
   "source": [
    "dict1 = {'Sport': 'Cricket' , 'Teams': ['India', 'Australia', 'England', 'South Africa', 'Sri Lanka', 'New Zealand']}"
   ]
  },
  {
   "cell_type": "code",
   "execution_count": 9,
   "id": "100cee0b-a84f-46d6-8792-8f65e6060a1b",
   "metadata": {},
   "outputs": [
    {
     "data": {
      "text/plain": [
       "dict_keys(['Sport', 'Teams'])"
      ]
     },
     "execution_count": 9,
     "metadata": {},
     "output_type": "execute_result"
    }
   ],
   "source": [
    "dict1.keys()"
   ]
  },
  {
   "cell_type": "code",
   "execution_count": null,
   "id": "4ccf56b7-150c-4d7a-8169-40da68643817",
   "metadata": {},
   "outputs": [],
   "source": []
  },
  {
   "cell_type": "code",
   "execution_count": null,
   "id": "c2ed85ad-a52d-481a-a15d-29ed72293b80",
   "metadata": {},
   "outputs": [],
   "source": []
  }
 ],
 "metadata": {
  "kernelspec": {
   "display_name": "Python 3 (ipykernel)",
   "language": "python",
   "name": "python3"
  },
  "language_info": {
   "codemirror_mode": {
    "name": "ipython",
    "version": 3
   },
   "file_extension": ".py",
   "mimetype": "text/x-python",
   "name": "python",
   "nbconvert_exporter": "python",
   "pygments_lexer": "ipython3",
   "version": "3.10.8"
  }
 },
 "nbformat": 4,
 "nbformat_minor": 5
}
