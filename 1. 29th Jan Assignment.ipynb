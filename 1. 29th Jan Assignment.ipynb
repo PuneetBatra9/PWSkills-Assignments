{
 "cells": [
  {
   "cell_type": "markdown",
   "id": "f5a29fab-8ece-464f-ba30-ce3b6f067bd6",
   "metadata": {},
   "source": [
    "# 29th Jan Assignment"
   ]
  },
  {
   "cell_type": "code",
   "execution_count": 2,
   "id": "2e909e84-0986-4fba-9927-196d4ab3b174",
   "metadata": {},
   "outputs": [],
   "source": [
    "## Q1 Who developed Python Programming Language\n",
    "## A1 Guido van Rossum"
   ]
  },
  {
   "cell_type": "code",
   "execution_count": 3,
   "id": "f217abcb-0746-4a9b-b13d-11253728431c",
   "metadata": {},
   "outputs": [],
   "source": [
    "## Q2 Which type of prgramming does python support\n",
    "## A2 Python support three programming paradigms: Imperative, Functional, and Object-Oriented "
   ]
  },
  {
   "cell_type": "code",
   "execution_count": 4,
   "id": "5f9e8c81-da70-4d62-b592-01877b8c2c90",
   "metadata": {},
   "outputs": [],
   "source": [
    "## Q3 Is python case sensitive when dealing with identifiers\n",
    "## A# Yes, Python is a case-sensitive language, i.e., it treats uppercase and lowercase characters differently. \n",
    "## This applies to identifiers too. "
   ]
  },
  {
   "cell_type": "code",
   "execution_count": null,
   "id": "fc43aeae-57a5-4e89-8eca-e25c71ef0bc6",
   "metadata": {},
   "outputs": [],
   "source": [
    "## Q4 What is the correct extension of the python file\n",
    "## Q4 Python has an extension called (.py)"
   ]
  },
  {
   "cell_type": "code",
   "execution_count": 5,
   "id": "d67edcce-0454-4319-bc52-aaa3c5dfa3ef",
   "metadata": {},
   "outputs": [],
   "source": [
    "## Q5 Is python code compiled or interpreted\n",
    "## A5 Python is both compiled as well as an interpreted language"
   ]
  },
  {
   "cell_type": "code",
   "execution_count": null,
   "id": "2b281424-c65c-408e-bf08-07808558cc69",
   "metadata": {},
   "outputs": [],
   "source": [
    "## Q6 Name a few blocks of code used to define in Python Language\n",
    "## A6 The following are blocks: a module, a function body, and a class definition. Each command typed interactively is a block.\n",
    "## Blocks refer to a block of code. Blocks can be identified by looking at their indentation level. \n",
    "## Blocks can have any number of lines as long as they are not interrupted by another line of code on the different or higher indent."
   ]
  },
  {
   "cell_type": "code",
   "execution_count": null,
   "id": "3a6911a9-c51f-4b71-9eb5-7b6a39825466",
   "metadata": {},
   "outputs": [],
   "source": [
    "## Q7 State a character used to give single line comments in python\n",
    "## A7 We can write a single-line comment by adding a single # (hash) character before any statement or line of code."
   ]
  },
  {
   "cell_type": "code",
   "execution_count": null,
   "id": "a9a6cc8e-5801-43b0-8859-a46426d230f3",
   "metadata": {},
   "outputs": [],
   "source": [
    "## Q8 Mention functions that can help us to find the version of python that we are currently working on\n",
    "## A8 We can use the sys.version code to find the version of python. Some ways below - "
   ]
  },
  {
   "cell_type": "code",
   "execution_count": 29,
   "id": "caebfdb9-7ac9-48c0-994e-90f9886f7d46",
   "metadata": {},
   "outputs": [
    {
     "name": "stdout",
     "output_type": "stream",
     "text": [
      "3.10.8\n"
     ]
    }
   ],
   "source": [
    "from platform import python_version\n",
    "print(python_version())"
   ]
  },
  {
   "cell_type": "code",
   "execution_count": 30,
   "id": "44426837-6746-4a2d-9e8b-0a2de845390e",
   "metadata": {},
   "outputs": [
    {
     "name": "stdout",
     "output_type": "stream",
     "text": [
      "3.10.8 | packaged by conda-forge | (main, Nov 22 2022, 08:26:04) [GCC 10.4.0]\n"
     ]
    }
   ],
   "source": [
    "import sys\n",
    "\n",
    "print(sys.version)"
   ]
  },
  {
   "cell_type": "code",
   "execution_count": null,
   "id": "4655ccd6-0945-4551-ba48-8209c6ada15d",
   "metadata": {},
   "outputs": [],
   "source": [
    "## Q9 Python supports the creation of anonymous functions at runtime using a construct called\n",
    "## A9 It uses a construct called \"lambda\" "
   ]
  },
  {
   "cell_type": "code",
   "execution_count": null,
   "id": "9010fbd0-6cd9-43b5-a6d9-e1090c1d73d9",
   "metadata": {},
   "outputs": [],
   "source": [
    "## Q10 What does PIP in python stand for?\n",
    "## Q10 Developed in 2008, pip (an acronym of “pip Install Packages”)"
   ]
  },
  {
   "cell_type": "code",
   "execution_count": null,
   "id": "1669596f-2aa6-4fdb-b1cc-a5f77fd62bb4",
   "metadata": {},
   "outputs": [],
   "source": [
    "## Q11 Mention a few inbuilt functions in python\n",
    "## A11 \n",
    "print( ) function\n",
    "type( ) function\n",
    "input( ) function\n",
    "abs( ) function\n",
    "pow( ) function\n",
    "dir( ) function\n",
    "sorted( ) function\n",
    "max( ) function\n",
    "round( ) function\n",
    "divmod( ) function\n",
    "id( ) function\n",
    "ord( ) function\n",
    "len( ) function\n",
    "sum( ) function\n",
    "help( ) function"
   ]
  },
  {
   "cell_type": "code",
   "execution_count": null,
   "id": "fbb907c3-1289-4518-a774-946482d22183",
   "metadata": {},
   "outputs": [],
   "source": [
    "## Q12 What is the maximum possible length of a python identifier in python\n",
    "## Q12 An identifier can have a maximum length of 79 characters in Python."
   ]
  },
  {
   "cell_type": "code",
   "execution_count": null,
   "id": "8485cdef-927d-4be4-8116-a9916f30daad",
   "metadata": {},
   "outputs": [],
   "source": [
    "## Q13 What are the benefits of usong python\n",
    "## Q13 \n",
    "# Support libraries are extensive\n",
    "# Universal and Industry wide applicability\n",
    "# Large community base\n",
    "# Dynamically typed language\n",
    "# Versatile, Easy to read, learn and write\n"
   ]
  },
  {
   "cell_type": "code",
   "execution_count": null,
   "id": "6bec724d-150e-420b-aca1-3c7b99f4453b",
   "metadata": {},
   "outputs": [],
   "source": [
    "## Q14 How is memory managed in Python?"
   ]
  },
  {
   "cell_type": "code",
   "execution_count": null,
   "id": "acc184bf-7fb2-4c41-a95e-cfc38303c044",
   "metadata": {},
   "outputs": [],
   "source": [
    "## Q15 How to install python on windows set path variable\n",
    "## A15 >>\n",
    "# Right-clicking This PC and going to Properties.\n",
    "# Clicking on the Advanced system settings in the menu on the left.\n",
    "# Clicking on the Environment Variables button on the bottom right.\n",
    "# In the System variables section, selecting the Path variable and clicking on Edit. The next screen will show all the directories that are currently a part of the PATH variable.\n",
    "# Clicking on New and entering Python’s install directory."
   ]
  },
  {
   "cell_type": "code",
   "execution_count": null,
   "id": "a93a7822-6a42-48d9-89ca-e3a0774ff553",
   "metadata": {},
   "outputs": [],
   "source": [
    "## Q16 Is indentation required in python\n",
    "## Indentation refers to the spaces at the beginning of a code line. \n",
    "## Where in other programming languages the indentation in code is for readability only, the indentation in Python is very important. \n",
    "## Python uses indentation to indicate a block of code."
   ]
  },
  {
   "cell_type": "code",
   "execution_count": null,
   "id": "1651faa7-34b5-45f3-bd4a-10a0e2762280",
   "metadata": {},
   "outputs": [],
   "source": []
  }
 ],
 "metadata": {
  "kernelspec": {
   "display_name": "Python 3 (ipykernel)",
   "language": "python",
   "name": "python3"
  },
  "language_info": {
   "codemirror_mode": {
    "name": "ipython",
    "version": 3
   },
   "file_extension": ".py",
   "mimetype": "text/x-python",
   "name": "python",
   "nbconvert_exporter": "python",
   "pygments_lexer": "ipython3",
   "version": "3.10.8"
  }
 },
 "nbformat": 4,
 "nbformat_minor": 5
}
