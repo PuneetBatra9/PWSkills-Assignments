{
 "cells": [
  {
   "cell_type": "markdown",
   "id": "c760c29a-aa1f-48c6-9007-00129d6ea73a",
   "metadata": {},
   "source": [
    "# 30th Jan Assignment"
   ]
  },
  {
   "cell_type": "code",
   "execution_count": null,
   "id": "81cd3f14-85e6-46e7-b72b-9ea03a5724ad",
   "metadata": {},
   "outputs": [],
   "source": [
    "## Q1 Write a program to accept percentage from the user and display the grade according to the below table - \n",
    "## Marks >90, Grade A\n",
    "## Marks >80 and <=90, Grade B\n",
    "## Marks >=60 and <=80, Grade C\n",
    "## Marks below 60, Grade D"
   ]
  },
  {
   "cell_type": "code",
   "execution_count": 7,
   "id": "111d57c9-ea1e-4811-a874-3b53101cbc42",
   "metadata": {},
   "outputs": [
    {
     "name": "stdin",
     "output_type": "stream",
     "text": [
      "Enter the marks 75\n"
     ]
    },
    {
     "name": "stdout",
     "output_type": "stream",
     "text": [
      "Grade C\n"
     ]
    }
   ],
   "source": [
    "marks=int(input(\"Enter the marks\"))\n",
    "if marks>90:\n",
    "    print(\"Grade A\")\n",
    "elif marks>80 and marks<=90:\n",
    "    print(\"Grade B\")\n",
    "elif marks>=60 and marks<=80:\n",
    "        print(\"Grade C\")\n",
    "else:\n",
    "            print(\"Grade D\")"
   ]
  },
  {
   "cell_type": "code",
   "execution_count": null,
   "id": "1dfc7727-5ac7-4ba7-8cf0-2830d33db079",
   "metadata": {},
   "outputs": [],
   "source": [
    "## Q2 Write a program to accept cost price of a bike and road tax to be paid accordingly to the following criteria \n",
    "## CP > 100000, Tax 15%\n",
    "## CP > 50000 and <=100000, Tax 10%\n",
    "## CP <= 50000, > Tax 5%"
   ]
  },
  {
   "cell_type": "code",
   "execution_count": 8,
   "id": "b3a7279d-0c3a-47a6-aa3e-b3a3dddf8db3",
   "metadata": {},
   "outputs": [
    {
     "name": "stdin",
     "output_type": "stream",
     "text": [
      "Enter the price 65000\n"
     ]
    },
    {
     "name": "stdout",
     "output_type": "stream",
     "text": [
      "Tax to be paid is 6500.0\n"
     ]
    }
   ],
   "source": [
    "price=int(input(\"Enter the price\"))\n",
    "if price>100000:\n",
    "    print(f\"Tax to be paid is {(price*0.15)}\")\n",
    "elif price>50000 and price<=100000:\n",
    "    print(f\"Tax to be paid is {(price*0.1)}\")\n",
    "elif price<=50000:\n",
    "        print(f\"Tax to be paid is {(price*0.05)}\")"
   ]
  },
  {
   "cell_type": "code",
   "execution_count": null,
   "id": "0ac62d14-e0a3-4117-a658-334090da7b67",
   "metadata": {},
   "outputs": [],
   "source": [
    "## Q3 Accept any city and display monument\n",
    "## Delhi > Red Fort, Agra > Taj Mahal, Jaipur > Jai Mahal"
   ]
  },
  {
   "cell_type": "code",
   "execution_count": 9,
   "id": "cb5de2bb-a030-4eee-a329-d0e4f59bffad",
   "metadata": {},
   "outputs": [
    {
     "name": "stdin",
     "output_type": "stream",
     "text": [
      "Enter the city Jaipur\n"
     ]
    },
    {
     "name": "stdout",
     "output_type": "stream",
     "text": [
      "Jai Mahal\n"
     ]
    }
   ],
   "source": [
    "city=input(\"Enter the city\")\n",
    "if city==\"Delhi\":\n",
    "    print(\"Red Fort\")\n",
    "elif city==\"Agra\":\n",
    "    print(\"Taj Mahal\")\n",
    "elif city==\"Jaipur\":\n",
    "        print(\"Jai Mahal\")"
   ]
  },
  {
   "cell_type": "code",
   "execution_count": null,
   "id": "1d2e1c68-86d2-44cb-be54-b89c058c064b",
   "metadata": {},
   "outputs": [],
   "source": [
    "## Q4 Check how many times a number can be divided by 3 before it is less than equal to 10"
   ]
  },
  {
   "cell_type": "code",
   "execution_count": 4,
   "id": "0852ec64-abca-4de0-97e6-e17ce66d0bd1",
   "metadata": {},
   "outputs": [
    {
     "name": "stdout",
     "output_type": "stream",
     "text": [
      "0\n",
      "3\n",
      "6\n",
      "9\n"
     ]
    }
   ],
   "source": [
    "for i in range (11):\n",
    "    if i <= 10:\n",
    "        if i % 3 ==0:\n",
    "            print(i)"
   ]
  },
  {
   "cell_type": "code",
   "execution_count": null,
   "id": "1b571b60-841a-4b97-9221-7298b16b42ce",
   "metadata": {},
   "outputs": [],
   "source": [
    "## Q5 Why and when to use WHILE LOOP in python give detailed descriptipon with example"
   ]
  },
  {
   "cell_type": "code",
   "execution_count": null,
   "id": "7b228fd1-24bd-4b09-aa9f-103ec1359583",
   "metadata": {},
   "outputs": [],
   "source": [
    "## A5 A While loop in Python allows a part of the code to be executed repeatedly as long as a given condition is true.\n",
    "## Bascally, you keep on running a code unitl a specific defined condiiton is met, if condition is not met, code will keep on running\n",
    "## Example 1 - If we are to print numbers one to 5 by adding '1' everytime, the condition will faiyl at number 6"
   ]
  },
  {
   "cell_type": "code",
   "execution_count": 10,
   "id": "2d90d1a3-48cd-416a-a00f-f275a8d01f6a",
   "metadata": {},
   "outputs": [
    {
     "name": "stdout",
     "output_type": "stream",
     "text": [
      "1\n",
      "2\n",
      "3\n",
      "4\n",
      "5\n"
     ]
    }
   ],
   "source": [
    "i = 1\n",
    "n = 5\n",
    "\n",
    "# while loop from i = 1 to 5\n",
    "while i <= n:\n",
    "    print(i)\n",
    "    i = i + 1"
   ]
  },
  {
   "cell_type": "code",
   "execution_count": null,
   "id": "b7246694-f2b3-4a18-b135-ad6f5ba40ce9",
   "metadata": {},
   "outputs": [],
   "source": [
    "## In the above example, 1 is printed and increased to 2, 2 is printed and increased to 3 and so on... till, 5 is printed and increased to 6 but at 6, n=5 is becomes fales and loop is terminated"
   ]
  },
  {
   "cell_type": "code",
   "execution_count": null,
   "id": "e82f93bf-a0cd-4846-8c12-3ea2d0635f19",
   "metadata": {},
   "outputs": [],
   "source": [
    "## Another example below where if age is less than 18, message displayed will be \"you cannot vote\" and once age condition exceeds 18, it will print \"you can vote\""
   ]
  },
  {
   "cell_type": "code",
   "execution_count": 11,
   "id": "2b65777c-d5f3-49e2-877d-cf5bfc6918fe",
   "metadata": {},
   "outputs": [
    {
     "name": "stdout",
     "output_type": "stream",
     "text": [
      "You cannot vote\n",
      "You cannot vote\n",
      "You cannot vote\n",
      "You cannot vote\n",
      "You cannot vote\n",
      "You cannot vote\n",
      "You cannot vote\n",
      "You cannot vote\n",
      "You cannot vote\n",
      "You cannot vote\n",
      "You cannot vote\n",
      "You cannot vote\n",
      "You cannot vote\n",
      "You cannot vote\n",
      "You cannot vote\n",
      "You cannot vote\n",
      "You cannot vote\n",
      "YOu can vote\n"
     ]
    }
   ],
   "source": [
    "age = 1\n",
    "while (age < 18):\n",
    "    age = age + 1\n",
    "    print(\"You cannot vote\")\n",
    "else:\n",
    "        print (\"YOu can vote\")"
   ]
  },
  {
   "cell_type": "code",
   "execution_count": null,
   "id": "59c83da8-4470-4473-8084-15929f279532",
   "metadata": {},
   "outputs": [],
   "source": [
    "## Q6 Use nested while loop to print 3 different patterns"
   ]
  },
  {
   "cell_type": "code",
   "execution_count": null,
   "id": "c96fa552-476c-4771-89bc-911e6ff85ce7",
   "metadata": {},
   "outputs": [],
   "source": [
    "## First pattern is right angle triangle printed using * symbol"
   ]
  },
  {
   "cell_type": "code",
   "execution_count": 12,
   "id": "54d76938-2252-415b-92ec-58da9ac4537f",
   "metadata": {},
   "outputs": [
    {
     "name": "stdout",
     "output_type": "stream",
     "text": [
      "* \n",
      "* * \n",
      "* * * \n",
      "* * * * \n",
      "* * * * * \n"
     ]
    }
   ],
   "source": [
    "rows = 5\n",
    "for i in range(1, rows + 1):\n",
    "    for j in range(1, i + 1):\n",
    "        print(\"*\", end=\" \")\n",
    "    print('')"
   ]
  },
  {
   "cell_type": "code",
   "execution_count": null,
   "id": "e504ece5-dc6f-4447-9f63-b00e72a7c3c3",
   "metadata": {},
   "outputs": [],
   "source": [
    "## In the above example, \n",
    "# outer loop is  > for i in range(1, rows + 1):\n",
    "    # inner loop is > \n",
    "    for j in range(1, i + 1):\n",
    "        print(\"*\", end=\" \")\n",
    "    print('')"
   ]
  },
  {
   "cell_type": "code",
   "execution_count": null,
   "id": "ea460569-d62f-4748-a7f5-ad587bae3115",
   "metadata": {},
   "outputs": [],
   "source": [
    "## Second pattern is to print prime numbers from 1-50"
   ]
  },
  {
   "cell_type": "code",
   "execution_count": 1,
   "id": "50bec493-e050-4eaf-ab8f-26732352024b",
   "metadata": {},
   "outputs": [
    {
     "name": "stdout",
     "output_type": "stream",
     "text": [
      "2  is prime\n",
      "3  is prime\n",
      "5  is prime\n",
      "7  is prime\n",
      "11  is prime\n",
      "13  is prime\n",
      "17  is prime\n",
      "19  is prime\n",
      "23  is prime\n",
      "29  is prime\n",
      "31  is prime\n",
      "37  is prime\n",
      "41  is prime\n",
      "43  is prime\n",
      "47  is prime\n"
     ]
    }
   ],
   "source": [
    "i = 2\n",
    "while(i < 50):\n",
    "   j = 2 \n",
    "   while(j <= (i/j)):\n",
    "      if not(i%j): break\n",
    "      j = j + 1\n",
    "   if (j > i/j) : print (i, \" is prime\")\n",
    "   i = i + 1\n"
   ]
  },
  {
   "cell_type": "code",
   "execution_count": null,
   "id": "a22e7807-2d9f-49ff-8db0-14409648f5e4",
   "metadata": {},
   "outputs": [],
   "source": [
    "## third pattern is to break a nested loop\n",
    "## In the below link, we are breaking the range of numbers at 20"
   ]
  },
  {
   "cell_type": "code",
   "execution_count": 15,
   "id": "843db301-74bb-4ea2-94eb-8286f17b2436",
   "metadata": {},
   "outputs": [
    {
     "name": "stdout",
     "output_type": "stream",
     "text": [
      "0\n",
      "1\n",
      "2\n",
      "3\n",
      "4\n",
      "5\n",
      "6\n",
      "7\n",
      "8\n",
      "9\n",
      "10\n",
      "11\n",
      "12\n",
      "13\n",
      "14\n",
      "15\n",
      "16\n",
      "17\n",
      "18\n",
      "19\n",
      "20\n"
     ]
    }
   ],
   "source": [
    "for i in range(100):\n",
    "    print(i)\n",
    "    if i == 20:\n",
    "        break"
   ]
  },
  {
   "cell_type": "code",
   "execution_count": null,
   "id": "eb5c9d27-8108-4096-b90b-867372e49c1d",
   "metadata": {},
   "outputs": [],
   "source": [
    "## Q7 Reverse a while loop to showcase numbers 10 to 1"
   ]
  },
  {
   "cell_type": "code",
   "execution_count": 6,
   "id": "a48a72d5-13e6-47ba-b4cd-615094076cba",
   "metadata": {},
   "outputs": [
    {
     "name": "stdout",
     "output_type": "stream",
     "text": [
      "10 , 9 , 8 , 7 , 6 , 5 , 4 , 3 , 2 , 1 , "
     ]
    }
   ],
   "source": [
    "for i in range (10,0,-1):\n",
    "    print(i,end=' , ')"
   ]
  },
  {
   "cell_type": "code",
   "execution_count": null,
   "id": "efa4ed86-91be-450b-8ae6-5c39c33caa6e",
   "metadata": {},
   "outputs": [],
   "source": [
    "## Q8 Reverse a while loop to showcase numbers 10 to 1 (same as Q7)"
   ]
  },
  {
   "cell_type": "code",
   "execution_count": 16,
   "id": "7b3e3f8a-2c03-4ba6-aa81-8e5cfd431eae",
   "metadata": {},
   "outputs": [
    {
     "name": "stdout",
     "output_type": "stream",
     "text": [
      "10 , 9 , 8 , 7 , 6 , 5 , 4 , 3 , 2 , 1 , "
     ]
    }
   ],
   "source": [
    "for i in range (10,0,-1):\n",
    "    print(i,end=' , ')"
   ]
  },
  {
   "cell_type": "code",
   "execution_count": null,
   "id": "99a92333-17c1-4684-bbd8-f7336e2f79ab",
   "metadata": {},
   "outputs": [],
   "source": []
  }
 ],
 "metadata": {
  "kernelspec": {
   "display_name": "Python 3 (ipykernel)",
   "language": "python",
   "name": "python3"
  },
  "language_info": {
   "codemirror_mode": {
    "name": "ipython",
    "version": 3
   },
   "file_extension": ".py",
   "mimetype": "text/x-python",
   "name": "python",
   "nbconvert_exporter": "python",
   "pygments_lexer": "ipython3",
   "version": "3.10.8"
  }
 },
 "nbformat": 4,
 "nbformat_minor": 5
}
